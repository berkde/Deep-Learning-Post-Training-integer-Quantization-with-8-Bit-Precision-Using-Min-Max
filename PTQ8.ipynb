{
 "cells": [
  {
   "cell_type": "code",
   "id": "initial_id",
   "metadata": {
    "collapsed": true,
    "ExecuteTime": {
     "end_time": "2025-04-22T00:18:57.894219Z",
     "start_time": "2025-04-22T00:18:57.725196Z"
    }
   },
   "source": [
    "import tensorflow as tf\n",
    "\n",
    "# Load the MNIST dataset\n",
    "(train_images, train_labels), (test_images, test_labels) = tf.keras.datasets.mnist.load_data()\n",
    "\n",
    "# Normalize the images to the range \n",
    "train_images = train_images.astype('float32') / 255.0\n",
    "test_images = test_images.astype('float32') / 255.0\n",
    "\n",
    "# Add a channel dimension (for convolutional layers)\n",
    "train_images = train_images.reshape(train_images.shape + (1,))\n",
    "test_images = test_images.reshape(test_images.shape + (1,))"
   ],
   "outputs": [
    {
     "name": "stdout",
     "output_type": "stream",
     "text": [
      "(10000, 28, 28)\n"
     ]
    }
   ],
   "execution_count": 5
  },
  {
   "metadata": {
    "ExecuteTime": {
     "end_time": "2025-04-21T16:13:45.749706Z",
     "start_time": "2025-04-21T16:13:16.871646Z"
    }
   },
   "cell_type": "code",
   "source": [
    "model = tf.keras.models.Sequential([\n",
    "    tf.keras.layers.Conv2D(32, (3, 3), activation='relu', input_shape=(28, 28, 1)),\n",
    "    tf.keras.layers.MaxPooling2D((2, 2)),\n",
    "    tf.keras.layers.Flatten(),\n",
    "    tf.keras.layers.Dense(10, activation='softmax')\n",
    "])\n",
    "\n",
    "model.compile(optimizer='adam',\n",
    "              loss='sparse_categorical_crossentropy',\n",
    "              metrics=['accuracy'])\n",
    "\n",
    "model.fit(train_images, train_labels, epochs=5)\n",
    "\n",
    "# Evaluate the baseline model\n",
    "_, baseline_accuracy = model.evaluate(test_images, test_labels, verbose=0)\n",
    "print(f'Baseline model accuracy: {baseline_accuracy:.4f}')\n",
    "\n",
    "# Save the baseline model (optional, but good practice)\n",
    "model.save('mnist_baseline.h5')"
   ],
   "id": "2d0d7f0a749a252c",
   "outputs": [
    {
     "name": "stdout",
     "output_type": "stream",
     "text": [
      "Epoch 1/5\n"
     ]
    },
    {
     "name": "stderr",
     "output_type": "stream",
     "text": [
      "/Users/berkdelibalta/miniconda3/lib/python3.12/site-packages/keras/src/layers/convolutional/base_conv.py:107: UserWarning: Do not pass an `input_shape`/`input_dim` argument to a layer. When using Sequential models, prefer using an `Input(shape)` object as the first layer in the model instead.\n",
      "  super().__init__(activity_regularizer=activity_regularizer, **kwargs)\n"
     ]
    },
    {
     "name": "stdout",
     "output_type": "stream",
     "text": [
      "\u001B[1m1875/1875\u001B[0m \u001B[32m━━━━━━━━━━━━━━━━━━━━\u001B[0m\u001B[37m\u001B[0m \u001B[1m6s\u001B[0m 3ms/step - accuracy: 0.8848 - loss: 0.4059\n",
      "Epoch 2/5\n",
      "\u001B[1m1875/1875\u001B[0m \u001B[32m━━━━━━━━━━━━━━━━━━━━\u001B[0m\u001B[37m\u001B[0m \u001B[1m6s\u001B[0m 3ms/step - accuracy: 0.9759 - loss: 0.0838\n",
      "Epoch 3/5\n",
      "\u001B[1m1875/1875\u001B[0m \u001B[32m━━━━━━━━━━━━━━━━━━━━\u001B[0m\u001B[37m\u001B[0m \u001B[1m6s\u001B[0m 3ms/step - accuracy: 0.9804 - loss: 0.0649\n",
      "Epoch 4/5\n",
      "\u001B[1m1875/1875\u001B[0m \u001B[32m━━━━━━━━━━━━━━━━━━━━\u001B[0m\u001B[37m\u001B[0m \u001B[1m6s\u001B[0m 3ms/step - accuracy: 0.9851 - loss: 0.0495\n",
      "Epoch 5/5\n",
      "\u001B[1m1875/1875\u001B[0m \u001B[32m━━━━━━━━━━━━━━━━━━━━\u001B[0m\u001B[37m\u001B[0m \u001B[1m6s\u001B[0m 3ms/step - accuracy: 0.9878 - loss: 0.0429\n"
     ]
    },
    {
     "name": "stderr",
     "output_type": "stream",
     "text": [
      "WARNING:absl:You are saving your model as an HDF5 file via `model.save()` or `keras.saving.save_model(model)`. This file format is considered legacy. We recommend using instead the native Keras format, e.g. `model.save('my_model.keras')` or `keras.saving.save_model(model, 'my_model.keras')`. \n"
     ]
    },
    {
     "name": "stdout",
     "output_type": "stream",
     "text": [
      "Baseline model accuracy: 0.9834\n"
     ]
    }
   ],
   "execution_count": 32
  },
  {
   "metadata": {
    "ExecuteTime": {
     "end_time": "2025-04-21T16:13:46.039475Z",
     "start_time": "2025-04-21T16:13:45.750519Z"
    }
   },
   "cell_type": "code",
   "source": [
    "# Load the saved baseline model\n",
    "loaded_model = tf.keras.models.load_model('mnist_baseline.h5')\n",
    "\n",
    "# Convert the model to TensorFlow Lite format\n",
    "converter = tf.lite.TFLiteConverter.from_keras_model(loaded_model)\n",
    "\n",
    "# Enable default optimizations for weight quantization (dynamic range quantization)\n",
    "converter.optimizations = tflite_model_dynamic_range = converter.convert()\n",
    "\n",
    "# Save the dynamically quantized model\n",
    "with open('mnist_quantized_dynamic_range.tflite', 'wb') as f:\n",
    "    f.write(tflite_model_dynamic_range)\n",
    "\n",
    "print(\"Dynamically quantized model saved.\")\n",
    "\n",
    "# For full integer quantization (weights and activations):\n",
    "def representative_dataset():\n",
    "    for image in train_images[:100]:  # Use a small subset of the training data\n",
    "        yield [image.reshape(1, 28, 28, 1)]\n",
    "\n",
    "converter_full_int = tf.lite.TFLiteConverter.from_keras_model(loaded_model)\n",
    "converter_full_int.optimizations = [tf.lite.Optimize.DEFAULT]\n",
    "converter_full_int.representative_dataset = representative_dataset\n",
    "converter_full_int.target_spec.supported_ops = [tf.lite.OpsSet.TFLITE_BUILTINS_INT8]\n",
    "converter_full_int.inference_input_type = tf.uint8  # or tf.int8\n",
    "converter_full_int.inference_output_type = tf.uint8 # or tf.int8\n",
    "tflite_model_full_int = converter_full_int.convert()\n",
    "\n",
    "# Save the fully integer quantized model\n",
    "with open('mnist_quantized_full_int.tflite', 'wb') as f:\n",
    "    f.write(tflite_model_full_int)\n",
    "\n",
    "print(\"Fully integer quantized model saved.\")"
   ],
   "id": "aa0cbda3e22d86d3",
   "outputs": [
    {
     "name": "stderr",
     "output_type": "stream",
     "text": [
      "WARNING:absl:Compiled the loaded model, but the compiled metrics have yet to be built. `model.compile_metrics` will be empty until you train or evaluate the model.\n"
     ]
    },
    {
     "name": "stdout",
     "output_type": "stream",
     "text": [
      "INFO:tensorflow:Assets written to: /var/folders/rb/8y6my9n97ms5wwj0qv5wfk4h0000gn/T/tmpvrpiv0dv/assets\n"
     ]
    },
    {
     "name": "stderr",
     "output_type": "stream",
     "text": [
      "INFO:tensorflow:Assets written to: /var/folders/rb/8y6my9n97ms5wwj0qv5wfk4h0000gn/T/tmpvrpiv0dv/assets\n"
     ]
    },
    {
     "name": "stdout",
     "output_type": "stream",
     "text": [
      "Saved artifact at '/var/folders/rb/8y6my9n97ms5wwj0qv5wfk4h0000gn/T/tmpvrpiv0dv'. The following endpoints are available:\n",
      "\n",
      "* Endpoint 'serve'\n",
      "  args_0 (POSITIONAL_ONLY): TensorSpec(shape=(None, 28, 28, 1), dtype=tf.float32, name='input_layer_1')\n",
      "Output Type:\n",
      "  TensorSpec(shape=(None, 10), dtype=tf.float32, name=None)\n",
      "Captures:\n",
      "  13691988176: TensorSpec(shape=(), dtype=tf.resource, name=None)\n",
      "  13653262608: TensorSpec(shape=(), dtype=tf.resource, name=None)\n",
      "  13691990864: TensorSpec(shape=(), dtype=tf.resource, name=None)\n",
      "  13691990672: TensorSpec(shape=(), dtype=tf.resource, name=None)\n",
      "Dynamically quantized model saved.\n",
      "INFO:tensorflow:Assets written to: /var/folders/rb/8y6my9n97ms5wwj0qv5wfk4h0000gn/T/tmpqw7bvs2c/assets\n"
     ]
    },
    {
     "name": "stderr",
     "output_type": "stream",
     "text": [
      "W0000 00:00:1745252025.836895 14062007 tf_tfl_flatbuffer_helpers.cc:392] Ignored output_format.\n",
      "W0000 00:00:1745252025.836904 14062007 tf_tfl_flatbuffer_helpers.cc:395] Ignored drop_control_dependency.\n",
      "2025-04-21 12:13:45.837003: I tensorflow/cc/saved_model/reader.cc:83] Reading SavedModel from: /var/folders/rb/8y6my9n97ms5wwj0qv5wfk4h0000gn/T/tmpvrpiv0dv\n",
      "2025-04-21 12:13:45.837227: I tensorflow/cc/saved_model/reader.cc:52] Reading meta graph with tags { serve }\n",
      "2025-04-21 12:13:45.837231: I tensorflow/cc/saved_model/reader.cc:147] Reading SavedModel debug info (if present) from: /var/folders/rb/8y6my9n97ms5wwj0qv5wfk4h0000gn/T/tmpvrpiv0dv\n",
      "2025-04-21 12:13:45.838660: I tensorflow/cc/saved_model/loader.cc:236] Restoring SavedModel bundle.\n",
      "2025-04-21 12:13:45.847729: I tensorflow/cc/saved_model/loader.cc:220] Running initialization op on SavedModel bundle at path: /var/folders/rb/8y6my9n97ms5wwj0qv5wfk4h0000gn/T/tmpvrpiv0dv\n",
      "2025-04-21 12:13:45.851114: I tensorflow/cc/saved_model/loader.cc:462] SavedModel load for tags { serve }; Status: success: OK. Took 14110 microseconds.\n",
      "INFO:tensorflow:Assets written to: /var/folders/rb/8y6my9n97ms5wwj0qv5wfk4h0000gn/T/tmpqw7bvs2c/assets\n"
     ]
    },
    {
     "name": "stdout",
     "output_type": "stream",
     "text": [
      "Saved artifact at '/var/folders/rb/8y6my9n97ms5wwj0qv5wfk4h0000gn/T/tmpqw7bvs2c'. The following endpoints are available:\n",
      "\n",
      "* Endpoint 'serve'\n",
      "  args_0 (POSITIONAL_ONLY): TensorSpec(shape=(None, 28, 28, 1), dtype=tf.float32, name='input_layer_1')\n",
      "Output Type:\n",
      "  TensorSpec(shape=(None, 10), dtype=tf.float32, name=None)\n",
      "Captures:\n",
      "  13691988176: TensorSpec(shape=(), dtype=tf.resource, name=None)\n",
      "  13653262608: TensorSpec(shape=(), dtype=tf.resource, name=None)\n",
      "  13691990864: TensorSpec(shape=(), dtype=tf.resource, name=None)\n",
      "  13691990672: TensorSpec(shape=(), dtype=tf.resource, name=None)\n"
     ]
    },
    {
     "name": "stderr",
     "output_type": "stream",
     "text": [
      "/Users/berkdelibalta/miniconda3/lib/python3.12/site-packages/tensorflow/lite/python/convert.py:983: UserWarning: Statistics for quantized inputs were expected, but not specified; continuing anyway.\n",
      "  warnings.warn(\n",
      "W0000 00:00:1745252025.941610 14062007 tf_tfl_flatbuffer_helpers.cc:392] Ignored output_format.\n",
      "W0000 00:00:1745252025.941619 14062007 tf_tfl_flatbuffer_helpers.cc:395] Ignored drop_control_dependency.\n",
      "2025-04-21 12:13:45.941713: I tensorflow/cc/saved_model/reader.cc:83] Reading SavedModel from: /var/folders/rb/8y6my9n97ms5wwj0qv5wfk4h0000gn/T/tmpqw7bvs2c\n",
      "2025-04-21 12:13:45.941910: I tensorflow/cc/saved_model/reader.cc:52] Reading meta graph with tags { serve }\n",
      "2025-04-21 12:13:45.941915: I tensorflow/cc/saved_model/reader.cc:147] Reading SavedModel debug info (if present) from: /var/folders/rb/8y6my9n97ms5wwj0qv5wfk4h0000gn/T/tmpqw7bvs2c\n",
      "2025-04-21 12:13:45.943260: I tensorflow/cc/saved_model/loader.cc:236] Restoring SavedModel bundle.\n",
      "2025-04-21 12:13:45.952094: I tensorflow/cc/saved_model/loader.cc:220] Running initialization op on SavedModel bundle at path: /var/folders/rb/8y6my9n97ms5wwj0qv5wfk4h0000gn/T/tmpqw7bvs2c\n",
      "2025-04-21 12:13:45.955349: I tensorflow/cc/saved_model/loader.cc:462] SavedModel load for tags { serve }; Status: success: OK. Took 13635 microseconds.\n",
      "fully_quantize: 0, inference_type: 6, input_inference_type: UINT8, output_inference_type: UINT8\n"
     ]
    },
    {
     "name": "stdout",
     "output_type": "stream",
     "text": [
      "Fully integer quantized model saved.\n"
     ]
    }
   ],
   "execution_count": 33
  },
  {
   "metadata": {
    "ExecuteTime": {
     "end_time": "2025-04-21T16:13:46.489008Z",
     "start_time": "2025-04-21T16:13:46.040663Z"
    }
   },
   "cell_type": "code",
   "source": [
    "import numpy as np\n",
    "import time \n",
    "\n",
    "def evaluate_tflite_model(tflite_model, test_images, test_labels):\n",
    "    interpreter = tf.lite.Interpreter(model_content=tflite_model)\n",
    "    interpreter.allocate_tensors()\n",
    "\n",
    "    input_details = interpreter.get_input_details()\n",
    "    output_details = interpreter.get_output_details()\n",
    "\n",
    "    predictions = []  # <-- Initialize predictions as an empty list!\n",
    "\n",
    "    for image in test_images:\n",
    "        if input_details[0]['dtype'] == np.uint8:\n",
    "            input_scale, input_zero_point = input_details[0]['quantization']\n",
    "            image = image / input_scale + input_zero_point\n",
    "\n",
    "        image = np.expand_dims(image, axis=0).astype(input_details[0]['dtype'])\n",
    "        interpreter.set_tensor(input_details[0]['index'], image)\n",
    "        interpreter.invoke()\n",
    "        output = interpreter.get_tensor(output_details[0]['index'])\n",
    "        predictions.append(np.argmax(output))\n",
    "        \n",
    "\n",
    "    accuracy = np.mean(np.array(predictions) == test_labels)\n",
    "    return accuracy\n",
    "\n",
    "# Evaluate the dynamically quantized model\n",
    "dynamic_range_accuracy = evaluate_tflite_model(tflite_model_dynamic_range, test_images, test_labels)\n",
    "print(f'Dynamically quantized model accuracy: {dynamic_range_accuracy:.4f}')\n",
    "\n",
    "# Evaluate the fully integer quantized model\n",
    "full_int_accuracy = evaluate_tflite_model(tflite_model_full_int, test_images, test_labels)\n",
    "print(f'Fully integer quantized model accuracy: {full_int_accuracy:.4f}')\n",
    "\n",
    "import os\n",
    "\n",
    "# Get the size of the dynamically quantized model\n",
    "dynamic_range_size = os.path.getsize('mnist_quantized_dynamic_range.tflite') / (1024)\n",
    "print(f'Dynamically quantized model size: {dynamic_range_size:.2f} KB')\n",
    "\n",
    "# Get the size of the fully integer quantized model\n",
    "full_int_size = os.path.getsize('mnist_quantized_full_int.tflite') / (1024)\n",
    "print(f'Fully integer quantized model size: {full_int_size:.2f} KB')\n",
    "\n",
    "# Get the size of the baseline model (approximated from the saved.h5 file)\n",
    "baseline_size = os.path.getsize('mnist_baseline.h5') / (1024)\n",
    "print(f'Baseline model size (approximate): {baseline_size:.2f} KB')"
   ],
   "id": "2b2ee40401efa925",
   "outputs": [
    {
     "name": "stdout",
     "output_type": "stream",
     "text": [
      "Dynamically quantized model accuracy: 0.9834\n",
      "Fully integer quantized model accuracy: 0.9831\n",
      "Dynamically quantized model size: 214.85 KB\n",
      "Fully integer quantized model size: 57.20 KB\n",
      "Baseline model size (approximate): 661.91 KB\n"
     ]
    }
   ],
   "execution_count": 34
  },
  {
   "metadata": {
    "ExecuteTime": {
     "end_time": "2025-04-21T16:14:28.269054Z",
     "start_time": "2025-04-21T16:14:13.787022Z"
    }
   },
   "cell_type": "code",
   "source": [
    "# Load baseline Keras model\n",
    "baseline_model = tf.keras.models.load_model(\"mnist_baseline.h5\")\n",
    "\n",
    "# Prepare a dummy input\n",
    "input_data = np.random.rand(1, 28, 28, 1).astype(np.float32)\n",
    "\n",
    "# Measure time\n",
    "times = []\n",
    "for _ in range(1000):\n",
    "    start_time = time.time()\n",
    "    _ = baseline_model.predict(input_data, verbose=0)\n",
    "    end_time = time.time()\n",
    "    times.append((end_time - start_time) * 1000)  # ms\n",
    "\n",
    "# Get average time\n",
    "avg_time_baseline = np.mean(times)\n",
    "print(f\"Baseline Keras Model Average Inference Time: {avg_time_baseline:.4f} ms/sample\")\n"
   ],
   "id": "470af8f67be37b0e",
   "outputs": [
    {
     "name": "stderr",
     "output_type": "stream",
     "text": [
      "WARNING:absl:Compiled the loaded model, but the compiled metrics have yet to be built. `model.compile_metrics` will be empty until you train or evaluate the model.\n"
     ]
    },
    {
     "name": "stdout",
     "output_type": "stream",
     "text": [
      "WARNING:tensorflow:6 out of the last 106 calls to <function TensorFlowTrainer.make_predict_function.<locals>.one_step_on_data_distributed at 0x3304f8cc0> triggered tf.function retracing. Tracing is expensive and the excessive number of tracings could be due to (1) creating @tf.function repeatedly in a loop, (2) passing tensors with different shapes, (3) passing Python objects instead of tensors. For (1), please define your @tf.function outside of the loop. For (2), @tf.function has reduce_retracing=True option that can avoid unnecessary retracing. For (3), please refer to https://www.tensorflow.org/guide/function#controlling_retracing and https://www.tensorflow.org/api_docs/python/tf/function for  more details.\n"
     ]
    },
    {
     "name": "stderr",
     "output_type": "stream",
     "text": [
      "WARNING:tensorflow:6 out of the last 106 calls to <function TensorFlowTrainer.make_predict_function.<locals>.one_step_on_data_distributed at 0x3304f8cc0> triggered tf.function retracing. Tracing is expensive and the excessive number of tracings could be due to (1) creating @tf.function repeatedly in a loop, (2) passing tensors with different shapes, (3) passing Python objects instead of tensors. For (1), please define your @tf.function outside of the loop. For (2), @tf.function has reduce_retracing=True option that can avoid unnecessary retracing. For (3), please refer to https://www.tensorflow.org/guide/function#controlling_retracing and https://www.tensorflow.org/api_docs/python/tf/function for  more details.\n"
     ]
    },
    {
     "name": "stdout",
     "output_type": "stream",
     "text": [
      "Baseline Keras Model Average Inference Time: 14.4569 ms/sample\n"
     ]
    }
   ],
   "execution_count": 38
  },
  {
   "metadata": {
    "ExecuteTime": {
     "end_time": "2025-04-21T16:13:46.538226Z",
     "start_time": "2025-04-21T16:13:46.535634Z"
    }
   },
   "cell_type": "code",
   "source": [
    "def measure_tflite_inference_time(interpreter, input_shape, runs=100, input_dtype=np.float32):\n",
    "    input_details = interpreter.get_input_details()\n",
    "    input_data = np.random.random_sample(input_shape)\n",
    "\n",
    "    if input_dtype == np.int8:\n",
    "        input_data = (input_data * 127).astype(np.int8)  # Scale to int8 range [-128, 127]\n",
    "    else:\n",
    "        input_data = input_data.astype(input_dtype)\n",
    "    \n",
    "    # Warm-up\n",
    "    interpreter.set_tensor(input_details[0]['index'], input_data)\n",
    "    interpreter.invoke()\n",
    "\n",
    "    times = []\n",
    "    for _ in range(runs):\n",
    "        start_time = time.time()\n",
    "        interpreter.set_tensor(input_details[0]['index'], input_data)\n",
    "        interpreter.invoke()\n",
    "        end_time = time.time()\n",
    "        times.append((end_time - start_time) * 1000)  # ms\n",
    "\n",
    "    avg_time = np.mean(times)\n",
    "    return avg_time"
   ],
   "id": "bcd0e63ba71f3e97",
   "outputs": [],
   "execution_count": 36
  },
  {
   "metadata": {
    "ExecuteTime": {
     "end_time": "2025-04-21T16:13:46.546174Z",
     "start_time": "2025-04-21T16:13:46.538813Z"
    }
   },
   "cell_type": "code",
   "source": [
    "dynamic_interpreter = tf.lite.Interpreter(model_path=\"mnist_quantized_dynamic_range.tflite\")\n",
    "dynamic_interpreter.allocate_tensors()\n",
    "\n",
    "avg_time_tflite = measure_tflite_inference_time(dynamic_interpreter, (1, 28, 28, 1))\n",
    "print(f\"TFLite Dynamic Model Average Inference Time: {avg_time_tflite:.4f} ms/sample\")\n",
    "\n",
    "fullInt_interpreter = tf.lite.Interpreter(model_path=\"mnist_quantized_dynamic_range.tflite\")\n",
    "fullInt_interpreter.allocate_tensors()\n",
    "\n",
    "avg_time_tflite = measure_tflite_inference_time(fullInt_interpreter, (1, 28, 28, 1))\n",
    "print(f\"TFLite Full Integer Model Average Inference Time: {avg_time_tflite:.4f} ms/sample\")"
   ],
   "id": "61d0cb2c22e829f4",
   "outputs": [
    {
     "name": "stdout",
     "output_type": "stream",
     "text": [
      "TFLite Dynamic Model Average Inference Time: 0.0233 ms/sample\n",
      "TFLite Full Integer Model Average Inference Time: 0.0198 ms/sample\n"
     ]
    }
   ],
   "execution_count": 37
  }
 ],
 "metadata": {
  "kernelspec": {
   "display_name": "Python 3",
   "language": "python",
   "name": "python3"
  },
  "language_info": {
   "codemirror_mode": {
    "name": "ipython",
    "version": 2
   },
   "file_extension": ".py",
   "mimetype": "text/x-python",
   "name": "python",
   "nbconvert_exporter": "python",
   "pygments_lexer": "ipython2",
   "version": "2.7.6"
  }
 },
 "nbformat": 4,
 "nbformat_minor": 5
}
